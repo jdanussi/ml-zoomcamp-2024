{
 "cells": [
  {
   "cell_type": "code",
   "execution_count": 2,
   "metadata": {},
   "outputs": [],
   "source": [
    "# Import libraries\n",
    "import pickle\n",
    "from sklearn.feature_extraction import DictVectorizer\n",
    "from sklearn.linear_model import LogisticRegression"
   ]
  },
  {
   "cell_type": "code",
   "execution_count": 3,
   "metadata": {},
   "outputs": [],
   "source": [
    "def load_from_pickle(pickle_file):\n",
    "    with open(pickle_file, 'rb') as f_in:\n",
    "        return pickle.load(f_in)"
   ]
  },
  {
   "cell_type": "code",
   "execution_count": 4,
   "metadata": {},
   "outputs": [],
   "source": [
    "def predict_single(customer, dv, model):\n",
    "    X = dv.transform([customer])\n",
    "    y_pred = model.predict_proba(X)[:, 1]\n",
    "    return y_pred[0]"
   ]
  },
  {
   "cell_type": "code",
   "execution_count": 5,
   "metadata": {},
   "outputs": [
    {
     "name": "stdout",
     "output_type": "stream",
     "text": [
      "prediction: 0.759\n",
      "verdict: client subscribed a term deposit\n"
     ]
    }
   ],
   "source": [
    "customer = {\n",
    "    'job': 'management',\n",
    "    'duration': 400,\n",
    "    'poutcome': 'success'\n",
    "}\n",
    "\n",
    "dv = load_from_pickle('dv.bin')\n",
    "model = load_from_pickle('model1.bin')\n",
    "\n",
    "prediction = predict_single(customer, dv, model)\n",
    "\n",
    "print('prediction: %.3f' % prediction)\n",
    "\n",
    "if prediction >= 0.5:\n",
    "    print(\"verdict: client subscribed a term deposit\")\n",
    "else:\n",
    "    print(\"verdict: client hasn't subscribed to a term deposit\")"
   ]
  }
 ],
 "metadata": {
  "kernelspec": {
   "display_name": "ml-zoomcamp",
   "language": "python",
   "name": "python3"
  },
  "language_info": {
   "codemirror_mode": {
    "name": "ipython",
    "version": 3
   },
   "file_extension": ".py",
   "mimetype": "text/x-python",
   "name": "python",
   "nbconvert_exporter": "python",
   "pygments_lexer": "ipython3",
   "version": "3.10.12"
  }
 },
 "nbformat": 4,
 "nbformat_minor": 2
}
